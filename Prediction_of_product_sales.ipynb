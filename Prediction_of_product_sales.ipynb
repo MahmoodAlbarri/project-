{
  "nbformat": 4,
  "nbformat_minor": 0,
  "metadata": {
    "colab": {
      "provenance": [],
      "authorship_tag": "ABX9TyNKx93qOqRrjEQ4ck1dcaI3",
      "include_colab_link": true
    },
    "kernelspec": {
      "name": "python3",
      "display_name": "Python 3"
    },
    "language_info": {
      "name": "python"
    }
  },
  "cells": [
    {
      "cell_type": "markdown",
      "metadata": {
        "id": "view-in-github",
        "colab_type": "text"
      },
      "source": [
        "<a href=\"https://colab.research.google.com/github/MahmoodAlbarri/project-/blob/main/Prediction_of_product_sales.ipynb\" target=\"_parent\"><img src=\"https://colab.research.google.com/assets/colab-badge.svg\" alt=\"Open In Colab\"/></a>"
      ]
    },
    {
      "cell_type": "markdown",
      "source": [
        "# Prediction of product sales\n",
        "  - Author: Brenda Hungerford\n",
        "  \n"
      ],
      "metadata": {
        "id": "6DOIYCd1Bld5"
      }
    },
    {
      "cell_type": "markdown",
      "source": [
        "## Project Overview"
      ],
      "metadata": {
        "id": "wmdRfJJuKOhO"
      }
    },
    {
      "cell_type": "markdown",
      "source": [
        "## Load and Inspect Data"
      ],
      "metadata": {
        "id": "H62ZBh3nKdY3"
      }
    },
    {
      "cell_type": "code",
      "execution_count": null,
      "metadata": {
        "id": "77AiuMvTBEbd"
      },
      "outputs": [],
      "source": []
    },
    {
      "cell_type": "markdown",
      "source": [
        "## Clean Data"
      ],
      "metadata": {
        "id": "pbQ_KMbUK1-S"
      }
    },
    {
      "cell_type": "code",
      "source": [],
      "metadata": {
        "id": "AGbWhOqqLsVz"
      },
      "execution_count": null,
      "outputs": []
    },
    {
      "cell_type": "markdown",
      "source": [
        "## Exploratory Data Analysis"
      ],
      "metadata": {
        "id": "-m6ZSNInLp3V"
      }
    },
    {
      "cell_type": "code",
      "source": [],
      "metadata": {
        "id": "RSiO_xY9L1pW"
      },
      "execution_count": null,
      "outputs": []
    },
    {
      "cell_type": "markdown",
      "source": [
        "## Feature Inspection"
      ],
      "metadata": {
        "id": "_un15P4xL4Cy"
      }
    },
    {
      "cell_type": "code",
      "source": [],
      "metadata": {
        "id": "YqpW-IKlL-Gk"
      },
      "execution_count": null,
      "outputs": []
    }
  ]
}